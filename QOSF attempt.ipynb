{
 "cells": [
  {
   "cell_type": "code",
   "execution_count": 130,
   "metadata": {},
   "outputs": [
    {
     "data": {
      "text/plain": [
       "[<matplotlib.lines.Line2D at 0x2518a95d4a8>]"
      ]
     },
     "execution_count": 130,
     "metadata": {},
     "output_type": "execute_result"
    },
    {
     "data": {
      "image/png": "[encoded data removed]",
      "text/plain": [
       "<Figure size 432x288 with 1 Axes>"
      ]
     },
     "metadata": {
      "needs_background": "light"
     },
     "output_type": "display_data"
    }
   ],
   "source": [
    "from qiskit import *\n",
    "from math import pi\n",
    "import numpy as np\n",
    "import matplotlib.pyplot as plt\n",
    "from scipy import optimize\n",
    "from qiskit.quantum_info import random_statevector, Statevector\n",
    "from qiskit import execute, Aer\n",
    "from qiskit.visualization import *\n",
    "\n",
    "n=1000                  #no of iterations or layers\n",
    "\n",
    "random_vec=random_statevector(16).data\n",
    "l_list=range(n)\n",
    "mods=np.empty(n)\n",
    "\n",
    "def odd_layer(circuit,theta):\n",
    "    for qubit in range(4):\n",
    "        circuit.rx(theta,qubit)\n",
    "        \n",
    "def even_layer(circuit,theta):\n",
    "    for qubit in range(4):\n",
    "        circuit.rx(theta,qubit)\n",
    "    circuit.cz(0,1)\n",
    "    circuit.cz(0,2)\n",
    "    circuit.cz(0,3)\n",
    "    circuit.cz(1,2)\n",
    "    circuit.cz(1,3)\n",
    "    circuit.cz(2,3)\n",
    "\n",
    "initial_state=[1,0]           #initialize to zero\n",
    "\n",
    "def f(theta):\n",
    "    qc = QuantumCircuit(qr)\n",
    "    for i in range(4):\n",
    "        qc.initialize(initial_state,i)\n",
    "    for i in range(l+1):\n",
    "        odd_layer(qc,theta)\n",
    "        even_layer(qc,theta)\n",
    "    backend = Aer.get_backend('statevector_simulator')\n",
    "    outputstate = execute(qc, backend).result().get_statevector()\n",
    "    return(np.linalg.norm(outputstate-random_vec))\n",
    "    \n",
    "for l in l_list:\n",
    "    result = optimize.minimize_scalar(f)\n",
    "    #print(result.success) # check if solver was successful\n",
    "    #print(l)\n",
    "    mods[l]=f(result.x)\n",
    "\n",
    "\n",
    "\n",
    "\n",
    "plt.plot(l_list,mods)\n",
    "\n"
   ]
  },
  {
   "cell_type": "code",
   "execution_count": 126,
   "metadata": {},
   "outputs": [],
   "source": [
    "\n",
    "#backend = Aer.get_backend('statevector_simulator')\n",
    "#outputstate = execute(qc, backend).result().get_statevector()\n",
    "#print(outputstate)\n",
    "#from qiskit_textbook.tools import array_to_latex\n",
    "#array_to_latex(outputstate, pretext=\"\\\\text{State_vector} = \")"
   ]
  },
  {
   "cell_type": "code",
   "execution_count": 127,
   "metadata": {},
   "outputs": [],
   "source": [
    "##unitary matrix\n",
    "#backend = Aer.get_backend('unitary_simulator')\n",
    "#unitary = execute(qc,backend).result().get_unitary()\n",
    "#array_to_latex(unitary, pretext=\"\\\\text{Circuit = } \")"
   ]
  },
  {
   "cell_type": "code",
   "execution_count": 128,
   "metadata": {},
   "outputs": [],
   "source": [
    "#qc.measure_all()\n",
    "#backend = Aer.get_backend(\"qasm_simulator\")\n",
    "#job = execute(qc,backend=backend, shots =10000)\n",
    "#counts = job.result().get_counts()\n",
    "#plot_histogram(counts)"
   ]
  }
 ],
 "metadata": {
  "kernelspec": {
   "display_name": "Python 3",
   "language": "python",
   "name": "python3"
  },
  "language_info": {
   "codemirror_mode": {
    "name": "ipython",
    "version": 3
   },
   "file_extension": ".py",
   "mimetype": "text/x-python",
   "name": "python",
   "nbconvert_exporter": "python",
   "pygments_lexer": "ipython3",
   "version": "3.7.3"
  }
 },
 "nbformat": 4,
 "nbformat_minor": 2
}
